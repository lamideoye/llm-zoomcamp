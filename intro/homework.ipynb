{
 "cells": [
  {
   "cell_type": "code",
   "execution_count": 1,
   "id": "1b45e809-9a47-4e01-931c-19fe8b859ee9",
   "metadata": {},
   "outputs": [],
   "source": [
    "from openai import OpenAI\n",
    "import os"
   ]
  },
  {
   "cell_type": "code",
   "execution_count": 2,
   "id": "a8f71fbb-9028-460e-9631-32d1077f5353",
   "metadata": {},
   "outputs": [],
   "source": [
    "client = OpenAI()"
   ]
  },
  {
   "cell_type": "code",
   "execution_count": 4,
   "id": "a3fb2c09-05f5-48c4-87b9-cfe9b5275014",
   "metadata": {},
   "outputs": [],
   "source": [
    "response=client.chat.completions.create(\n",
    "    model=\"gpt-4o\",\n",
    "    messages=[{\"role\": \"user\", \"content\": \"Is it too late to join the course?\"}]\n",
    ")"
   ]
  },
  {
   "cell_type": "code",
   "execution_count": 9,
   "id": "979f1705-fc4c-4c16-a8c8-7538510bd97a",
   "metadata": {},
   "outputs": [
    {
     "data": {
      "text/plain": [
       "'To provide you with the best answer, I would need more details about the course in question. Enrollment deadlines can vary widely between courses, institutions, and formats (e.g., online or in-person). Here are a few general steps you can take to find out if you can still join:\\n\\n1. **Check the Course Website**: Look for information on registration deadlines, course start dates, and any late enrollment options.\\n\\n2. **Contact the Instructor or Institution**: Reach out directly to the course provider or instructor. They can give you up-to-date information on availability and any policies they might have for late enrollment.\\n\\n3. **Consider Auditing or Alternative Sessions**: If the registration deadline has passed, ask if you can audit the course or join a waiting list for the next available session.\\n\\n4. **Look for Online Resources**: Some courses offer online versions or have recorded sessions that you can access at any time.\\n\\nIf you provide more specific details about the course, I can try to offer more targeted advice.'"
      ]
     },
     "execution_count": 9,
     "metadata": {},
     "output_type": "execute_result"
    }
   ],
   "source": [
    "response.choices[0].message.content"
   ]
  },
  {
   "cell_type": "code",
   "execution_count": null,
   "id": "346fa2aa-57b4-438b-b6e5-7bb5ada8ae02",
   "metadata": {},
   "outputs": [],
   "source": []
  }
 ],
 "metadata": {
  "kernelspec": {
   "display_name": "Python 3 (ipykernel)",
   "language": "python",
   "name": "python3"
  },
  "language_info": {
   "codemirror_mode": {
    "name": "ipython",
    "version": 3
   },
   "file_extension": ".py",
   "mimetype": "text/x-python",
   "name": "python",
   "nbconvert_exporter": "python",
   "pygments_lexer": "ipython3",
   "version": "3.12.1"
  }
 },
 "nbformat": 4,
 "nbformat_minor": 5
}
